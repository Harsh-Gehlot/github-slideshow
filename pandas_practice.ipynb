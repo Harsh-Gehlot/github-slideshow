{
  "nbformat": 4,
  "nbformat_minor": 0,
  "metadata": {
    "colab": {
      "name": "pandas_practice.ipynb",
      "provenance": [],
      "authorship_tag": "ABX9TyMbEF3QYW6nLTjTm9rdg7c+",
      "include_colab_link": true
    },
    "kernelspec": {
      "name": "python3",
      "display_name": "Python 3"
    },
    "language_info": {
      "name": "python"
    }
  },
  "cells": [
    {
      "cell_type": "markdown",
      "metadata": {
        "id": "view-in-github",
        "colab_type": "text"
      },
      "source": [
        "<a href=\"https://colab.research.google.com/github/Harsh-Gehlot/github-slideshow/blob/main/pandas_practice.ipynb\" target=\"_parent\"><img src=\"https://colab.research.google.com/assets/colab-badge.svg\" alt=\"Open In Colab\"/></a>"
      ]
    },
    {
      "cell_type": "code",
      "metadata": {
        "id": "Ers0JmJ05slc"
      },
      "source": [
        "import pandas as pd\n"
      ],
      "execution_count": null,
      "outputs": []
    },
    {
      "cell_type": "code",
      "metadata": {
        "colab": {
          "base_uri": "https://localhost:8080/"
        },
        "id": "v9YJqAaU5w7-",
        "outputId": "3c337453-fb8a-4daf-8df6-e7796d1ec4aa"
      },
      "source": [
        "df = pd.DataFrame({\"State\":[\"Mh\", \"Rj\", \"Wb\"],'Active':['West','North','South'],\n",
        "                   'Recovered':['Costco','Walmart','Home Depot']\n",
        "                   })\n",
        "print(df)"
      ],
      "execution_count": null,
      "outputs": [
        {
          "output_type": "stream",
          "text": [
            "  State Active   Recovered\n",
            "0    Mh   West      Costco\n",
            "1    Rj  North     Walmart\n",
            "2    Wb  South  Home Depot\n"
          ],
          "name": "stdout"
        }
      ]
    },
    {
      "cell_type": "code",
      "metadata": {
        "id": "5tYrv-nG9v-s"
      },
      "source": [
        "df = df.set_index('State')"
      ],
      "execution_count": null,
      "outputs": []
    },
    {
      "cell_type": "code",
      "metadata": {
        "colab": {
          "base_uri": "https://localhost:8080/"
        },
        "id": "Aqv2vb3391fy",
        "outputId": "df17e6c0-98e7-4b19-a8f9-ea4326085af7"
      },
      "source": [
        "print(df)"
      ],
      "execution_count": null,
      "outputs": [
        {
          "output_type": "stream",
          "text": [
            "      Active   Recovered\n",
            "State                   \n",
            "Mh      West      Costco\n",
            "Rj     North     Walmart\n",
            "Wb     South  Home Depot\n"
          ],
          "name": "stdout"
        }
      ]
    },
    {
      "cell_type": "code",
      "metadata": {
        "colab": {
          "base_uri": "https://localhost:8080/"
        },
        "id": "5VWwVonA6tK-",
        "outputId": "dd3ce813-670f-4b8d-8ec2-81c17d5eadb3"
      },
      "source": [
        "list(df.index.values)"
      ],
      "execution_count": null,
      "outputs": [
        {
          "output_type": "execute_result",
          "data": {
            "text/plain": [
              "[0, 1, 2]"
            ]
          },
          "metadata": {},
          "execution_count": 3
        }
      ]
    },
    {
      "cell_type": "code",
      "metadata": {
        "colab": {
          "base_uri": "https://localhost:8080/",
          "height": 180
        },
        "id": "eHNs_UEI6KLp",
        "outputId": "6df1f29a-bf0f-4548-d760-9c54332d26a5"
      },
      "source": [
        "# idx = df.Index(['MH', 'Rj', 'WB', 'Kerala'])\n",
        "df.index.values = (['MH', 'Rj', 'WB'])"
      ],
      "execution_count": null,
      "outputs": [
        {
          "output_type": "error",
          "ename": "AttributeError",
          "evalue": "ignored",
          "traceback": [
            "\u001b[0;31m---------------------------------------------------------------------------\u001b[0m",
            "\u001b[0;31mAttributeError\u001b[0m                            Traceback (most recent call last)",
            "\u001b[0;32m<ipython-input-7-40257b8596dc>\u001b[0m in \u001b[0;36m<module>\u001b[0;34m()\u001b[0m\n\u001b[1;32m      1\u001b[0m \u001b[0;31m# idx = df.Index(['MH', 'Rj', 'WB', 'Kerala'])\u001b[0m\u001b[0;34m\u001b[0m\u001b[0;34m\u001b[0m\u001b[0;34m\u001b[0m\u001b[0m\n\u001b[0;32m----> 2\u001b[0;31m \u001b[0mdf\u001b[0m\u001b[0;34m.\u001b[0m\u001b[0mindex\u001b[0m\u001b[0;34m.\u001b[0m\u001b[0mvalues\u001b[0m \u001b[0;34m=\u001b[0m \u001b[0;34m(\u001b[0m\u001b[0;34m[\u001b[0m\u001b[0;34m'MH'\u001b[0m\u001b[0;34m,\u001b[0m \u001b[0;34m'Rj'\u001b[0m\u001b[0;34m,\u001b[0m \u001b[0;34m'WB'\u001b[0m\u001b[0;34m]\u001b[0m\u001b[0;34m)\u001b[0m\u001b[0;34m\u001b[0m\u001b[0;34m\u001b[0m\u001b[0m\n\u001b[0m",
            "\u001b[0;31mAttributeError\u001b[0m: can't set attribute"
          ]
        }
      ]
    },
    {
      "cell_type": "code",
      "metadata": {
        "colab": {
          "base_uri": "https://localhost:8080/"
        },
        "id": "r_Skz8_V8hdq",
        "outputId": "446750e5-9850-444c-c744-9bef984029fa"
      },
      "source": [
        "index = df.loc[df['State'] == 'Rj'].index.values[0]\n",
        "df.at[index, \"Death\"] = 21 "
      ],
      "execution_count": null,
      "outputs": [
        {
          "output_type": "stream",
          "text": [
            "1\n"
          ],
          "name": "stdout"
        }
      ]
    },
    {
      "cell_type": "code",
      "metadata": {
        "id": "dv8PHH63-aL4"
      },
      "source": [
        "df.at['Rj', \"Death\"] = 21"
      ],
      "execution_count": null,
      "outputs": []
    },
    {
      "cell_type": "code",
      "metadata": {
        "colab": {
          "base_uri": "https://localhost:8080/",
          "height": 173
        },
        "id": "oQY9Jjai-d6K",
        "outputId": "5105c59a-79e4-4f35-f41a-59f2b1dcadae"
      },
      "source": [
        "df\n"
      ],
      "execution_count": null,
      "outputs": [
        {
          "output_type": "execute_result",
          "data": {
            "text/html": [
              "<div>\n",
              "<style scoped>\n",
              "    .dataframe tbody tr th:only-of-type {\n",
              "        vertical-align: middle;\n",
              "    }\n",
              "\n",
              "    .dataframe tbody tr th {\n",
              "        vertical-align: top;\n",
              "    }\n",
              "\n",
              "    .dataframe thead th {\n",
              "        text-align: right;\n",
              "    }\n",
              "</style>\n",
              "<table border=\"1\" class=\"dataframe\">\n",
              "  <thead>\n",
              "    <tr style=\"text-align: right;\">\n",
              "      <th></th>\n",
              "      <th>Active</th>\n",
              "      <th>Recovered</th>\n",
              "      <th>Death</th>\n",
              "    </tr>\n",
              "    <tr>\n",
              "      <th>State</th>\n",
              "      <th></th>\n",
              "      <th></th>\n",
              "      <th></th>\n",
              "    </tr>\n",
              "  </thead>\n",
              "  <tbody>\n",
              "    <tr>\n",
              "      <th>Mh</th>\n",
              "      <td>West</td>\n",
              "      <td>Costco</td>\n",
              "      <td>NaN</td>\n",
              "    </tr>\n",
              "    <tr>\n",
              "      <th>Rj</th>\n",
              "      <td>North</td>\n",
              "      <td>Walmart</td>\n",
              "      <td>21.0</td>\n",
              "    </tr>\n",
              "    <tr>\n",
              "      <th>Wb</th>\n",
              "      <td>South</td>\n",
              "      <td>Home Depot</td>\n",
              "      <td>NaN</td>\n",
              "    </tr>\n",
              "  </tbody>\n",
              "</table>\n",
              "</div>"
            ],
            "text/plain": [
              "      Active   Recovered  Death\n",
              "State                          \n",
              "Mh      West      Costco    NaN\n",
              "Rj     North     Walmart   21.0\n",
              "Wb     South  Home Depot    NaN"
            ]
          },
          "metadata": {},
          "execution_count": 21
        }
      ]
    },
    {
      "cell_type": "code",
      "metadata": {
        "colab": {
          "base_uri": "https://localhost:8080/"
        },
        "id": "eGJq5kmKBwiV",
        "outputId": "61276618-88d8-4da3-d117-180bbe72b8a2"
      },
      "source": [
        "data = []\n",
        "index = [4,2,6,8,7]\n",
        "print(len(index))\n",
        "for i in index:\n",
        "  data.append(2*i)\n",
        "# data   \n",
        "# series = pd.Series(data, index = [4,2,6,8,7])\n",
        "# series\n",
        "# for i in series:\n",
        "  # print(i)\n",
        "  # series.index.values = i*2\n",
        "# print(series)"
      ],
      "execution_count": null,
      "outputs": [
        {
          "output_type": "stream",
          "text": [
            "5\n"
          ],
          "name": "stdout"
        }
      ]
    },
    {
      "cell_type": "code",
      "metadata": {
        "colab": {
          "base_uri": "https://localhost:8080/"
        },
        "id": "T0okkV0LEWj3",
        "outputId": "0d3eda39-4131-4b89-ef72-72e02858edc9"
      },
      "source": [
        "data"
      ],
      "execution_count": null,
      "outputs": [
        {
          "output_type": "execute_result",
          "data": {
            "text/plain": [
              "[8, 4, 12, 16, 14]"
            ]
          },
          "metadata": {},
          "execution_count": 19
        }
      ]
    },
    {
      "cell_type": "code",
      "metadata": {
        "colab": {
          "base_uri": "https://localhost:8080/"
        },
        "id": "c194TTMXEY8b",
        "outputId": "ee5e4d55-765d-4df5-d953-d873b7d7b87f"
      },
      "source": [
        "series = pd.Series(data, index = [4,2,6,8,7])\n",
        "series"
      ],
      "execution_count": null,
      "outputs": [
        {
          "output_type": "execute_result",
          "data": {
            "text/plain": [
              "4     8\n",
              "2     4\n",
              "6    12\n",
              "8    16\n",
              "7    14\n",
              "dtype: int64"
            ]
          },
          "metadata": {},
          "execution_count": 21
        }
      ]
    },
    {
      "cell_type": "code",
      "metadata": {
        "colab": {
          "base_uri": "https://localhost:8080/"
        },
        "id": "nU1TGenkFGry",
        "outputId": "bb6f8e25-2c79-4194-a6ef-2ef17087fa2d"
      },
      "source": [
        "result = series.quantile(q = 0.25)\n",
        "result"
      ],
      "execution_count": null,
      "outputs": [
        {
          "output_type": "execute_result",
          "data": {
            "text/plain": [
              "8.0"
            ]
          },
          "metadata": {},
          "execution_count": 23
        }
      ]
    },
    {
      "cell_type": "code",
      "metadata": {
        "colab": {
          "base_uri": "https://localhost:8080/"
        },
        "id": "1rn6Wg20FjjC",
        "outputId": "32105346-5c6b-4f7c-cec9-546f2f60466d"
      },
      "source": [
        "sum = 0\n",
        "for i in series:\n",
        "  sum += i\n",
        "print(sum)  "
      ],
      "execution_count": null,
      "outputs": [
        {
          "output_type": "stream",
          "text": [
            "54\n"
          ],
          "name": "stdout"
        }
      ]
    },
    {
      "cell_type": "code",
      "metadata": {
        "colab": {
          "base_uri": "https://localhost:8080/"
        },
        "id": "bq1CiDIWnXcw",
        "outputId": "b344d6a5-4756-41ad-bafa-7b914c9f4dbf"
      },
      "source": [
        "import tensorflow as tf\n",
        "x = tf.constant([1, 4, 7])\n",
        "y = tf.constant([2, 5, 8])\n",
        "z = tf.constant([3, 6, 9])\n",
        "tf.stack([x, y, z], axis =1)"
      ],
      "execution_count": null,
      "outputs": [
        {
          "output_type": "execute_result",
          "data": {
            "text/plain": [
              "<tf.Tensor: shape=(3, 3), dtype=int32, numpy=\n",
              "array([[1, 2, 3],\n",
              "       [4, 5, 6],\n",
              "       [7, 8, 9]], dtype=int32)>"
            ]
          },
          "metadata": {},
          "execution_count": 4
        }
      ]
    }
  ]
}